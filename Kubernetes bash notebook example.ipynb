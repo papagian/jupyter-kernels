{
 "cells": [
  {
   "cell_type": "code",
   "execution_count": 1,
   "metadata": {},
   "outputs": [
    {
     "name": "stdout",
     "output_type": "stream",
     "text": [
      "bash: bash-b89f0124-7a8b-11e9-b860-acde48001122# echo \"Hello world\"\r\n",
      "Hello world\r\n"
     ]
    }
   ],
   "source": [
    "echo \"Hello world\""
   ]
  },
  {
   "cell_type": "code",
   "execution_count": 2,
   "metadata": {},
   "outputs": [
    {
     "name": "stdout",
     "output_type": "stream",
     "text": [
      "bash: bash-b89f0124-7a8b-11e9-b860-acde48001122# bash-5.0# pwd\r\n",
      "/\r\n"
     ]
    }
   ],
   "source": [
    "pwd"
   ]
  },
  {
   "cell_type": "code",
   "execution_count": 3,
   "metadata": {},
   "outputs": [
    {
     "name": "stdout",
     "output_type": "stream",
     "text": [
      "bash: bash-b89f0124-7a8b-11e9-b860-acde48001122# bash-5.0# ls -l\r\n",
      "total 56\r\n",
      "drwxr-xr-x    1 root     root          4096 May 11 00:26 \u001b[1;34mbin\u001b[m\r\n",
      "drwxr-xr-x    5 root     root           380 May 19 23:13 \u001b[1;34mdev\u001b[m\r\n",
      "drwxr-xr-x    1 root     root          4096 May 19 23:13 \u001b[1;34metc\u001b[m\r\n",
      "drwxr-xr-x    2 root     root          4096 May  9 20:49 \u001b[1;34mhome\u001b[m\r\n",
      "drwxr-xr-x    1 root     root          4096 May 11 00:26 \u001b[1;34mlib\u001b[m\r\n",
      "drwxr-xr-x    5 root     root          4096 May  9 20:49 \u001b[1;34mmedia\u001b[m\r\n",
      "drwxr-xr-x    2 root     root          4096 May  9 20:49 \u001b[1;34mmnt\u001b[m\r\n",
      "drwxr-xr-x    2 root     root          4096 May  9 20:49 \u001b[1;34mopt\u001b[m\r\n",
      "dr-xr-xr-x  248 root     root             0 May 19 23:13 \u001b[1;34mproc\u001b[m\r\n",
      "drwx------    2 root     root          4096 May  9 20:49 \u001b[1;34mroot\u001b[m\r\n",
      "drwxr-xr-x    1 root     root          4096 May 19 23:13 \u001b[1;34mrun\u001b[m\r\n",
      "drwxr-xr-x    2 root     root          4096 May  9 20:49 \u001b[1;34msbin\u001b[m\r\n",
      "drwxr-xr-x    2 root     root          4096 May  9 20:49 \u001b[1;34msrv\u001b[m\r\n",
      "dr-xr-xr-x   13 root     root             0 May 19 23:13 \u001b[1;34msys\u001b[m\r\n",
      "drwxrwxrwt    1 root     root          4096 May 11 00:26 \u001b[1;34mtmp\u001b[m\r\n",
      "drwxr-xr-x    1 root     root          4096 May 11 00:26 \u001b[1;34musr\u001b[m\r\n",
      "drwxr-xr-x    1 root     root          4096 May  9 20:49 \u001b[1;34mvar\u001b[m\r\n"
     ]
    }
   ],
   "source": [
    "ls -l"
   ]
  },
  {
   "cell_type": "code",
   "execution_count": 4,
   "metadata": {},
   "outputs": [
    {
     "name": "stdout",
     "output_type": "stream",
     "text": [
      "bash: bash-b89f0124-7a8b-11e9-b860-acde48001122# bash-5.0# FOO=bar\r\n"
     ]
    }
   ],
   "source": [
    "FOO=bar"
   ]
  },
  {
   "cell_type": "code",
   "execution_count": 5,
   "metadata": {},
   "outputs": [
    {
     "name": "stdout",
     "output_type": "stream",
     "text": [
      "bash: bash-b89f0124-7a8b-11e9-b860-acde48001122# bash-5.0# echo $FOO\r\n",
      "bar\r\n"
     ]
    }
   ],
   "source": [
    "echo $FOO"
   ]
  },
  {
   "cell_type": "code",
   "execution_count": null,
   "metadata": {},
   "outputs": [],
   "source": [
    "env"
   ]
  },
  {
   "cell_type": "code",
   "execution_count": null,
   "metadata": {},
   "outputs": [],
   "source": [
    "ip addr"
   ]
  },
  {
   "cell_type": "code",
   "execution_count": null,
   "metadata": {},
   "outputs": [],
   "source": [
    "hostname"
   ]
  },
  {
   "cell_type": "code",
   "execution_count": null,
   "metadata": {},
   "outputs": [],
   "source": []
  }
 ],
 "metadata": {
  "kernelspec": {
   "display_name": "Bash Kubernetes",
   "language": "shell",
   "name": "bash_k8s"
  },
  "language_info": {
   "file_extension": ".sh",
   "mimetype": "text/x-shellscript",
   "name": "Shell script"
  }
 },
 "nbformat": 4,
 "nbformat_minor": 2
}
