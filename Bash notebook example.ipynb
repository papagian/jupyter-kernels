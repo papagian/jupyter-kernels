{
 "cells": [
  {
   "cell_type": "code",
   "execution_count": 1,
   "metadata": {},
   "outputs": [
    {
     "name": "stdout",
     "output_type": "stream",
     "text": [
      "bash:latest: af333e88e12498604a0a58ca27e9776e8781878421b1d6a6810e6ace3c7922b3# ls\r\n",
      "\u001b[1;34mbin\u001b[m    \u001b[1;34metc\u001b[m    \u001b[1;34mlib\u001b[m    \u001b[1;34mmnt\u001b[m    \u001b[1;34mproc\u001b[m   \u001b[1;34mrun\u001b[m    \u001b[1;34msrv\u001b[m    \u001b[1;34mtmp\u001b[m    \u001b[1;34mvar\u001b[m\r\n",
      "\u001b[1;34mdev\u001b[m    \u001b[1;34mhome\u001b[m   \u001b[1;34mmedia\u001b[m  \u001b[1;34mopt\u001b[m    \u001b[1;34mroot\u001b[m   \u001b[1;34msbin\u001b[m   \u001b[1;34msys\u001b[m    \u001b[1;34musr\u001b[m\r\n",
      "bash-5.0# "
     ]
    }
   ],
   "source": [
    "ls"
   ]
  },
  {
   "cell_type": "code",
   "execution_count": 2,
   "metadata": {},
   "outputs": [
    {
     "name": "stdout",
     "output_type": "stream",
     "text": [
      "bash:latest: af333e88e12498604a0a58ca27e9776e8781878421b1d6a6810e6ace3c7922b3# echo 'Hello world!' > /tmp/just-testing.txt\r\n",
      "bash-5.0# "
     ]
    }
   ],
   "source": [
    "echo 'Hello world!' > /tmp/just-testing.txt"
   ]
  },
  {
   "cell_type": "code",
   "execution_count": 3,
   "metadata": {},
   "outputs": [
    {
     "name": "stdout",
     "output_type": "stream",
     "text": [
      "bash:latest: af333e88e12498604a0a58ca27e9776e8781878421b1d6a6810e6ace3c7922b3# cat /tmp/just-testing.txt\r\n",
      "Hello world!\r\n",
      "bash-5.0# "
     ]
    }
   ],
   "source": [
    "cat /tmp/just-testing.txt"
   ]
  },
  {
   "cell_type": "code",
   "execution_count": 4,
   "metadata": {},
   "outputs": [
    {
     "name": "stdout",
     "output_type": "stream",
     "text": [
      "bash:latest: af333e88e12498604a0a58ca27e9776e8781878421b1d6a6810e6ace3c7922b3# # not existing file\r\n",
      "bash-5.0# cat /tmp/just-testing\r\n",
      "cat: can't open '/tmp/just-testing': No such file or directory\r\n",
      "bash-5.0# "
     ]
    }
   ],
   "source": [
    "# not existing file\n",
    "cat /tmp/just-testing"
   ]
  },
  {
   "cell_type": "code",
   "execution_count": 5,
   "metadata": {},
   "outputs": [
    {
     "name": "stdout",
     "output_type": "stream",
     "text": [
      "bash:latest: af333e88e12498604a0a58ca27e9776e8781878421b1d6a6810e6ace3c7922b3# ip addr\r\n",
      "1: lo: <LOOPBACK,UP,LOWER_UP> mtu 65536 qdisc noqueue state UNKNOWN qlen 1\r\n",
      "    link/loopback 00:00:00:00:00:00 brd 00:00:00:00:00:00\r\n",
      "    inet 127.0.0.1/8 scope host lo\r\n",
      "       valid_lft forever preferred_lft forever\r\n",
      "2: tunl0@NONE: <NOARP> mtu 1480 qdisc noop state DOWN qlen 1\r\n",
      "    link/ipip 0.0.0.0 brd 0.0.0.0\r\n",
      "3: ip6tnl0@NONE: <NOARP> mtu 1452 qdisc noop state DOWN qlen 1\r\n",
      "    link/tunnel6 00:00:00:00:00:00:00:00:00:00:00:00:00:00:00:00 brd 00:00:00:00:00:00:00:00:00:00:00:00:00:00:00:00\r\n",
      "46: eth0@if47: <BROADCAST,MULTICAST,UP,LOWER_UP,M-DOWN> mtu 1500 qdisc noqueue state UP \r\n",
      "    link/ether 02:42:ac:11:00:02 brd ff:ff:ff:ff:ff:ff\r\n",
      "    inet 172.17.0.2/16 brd 172.17.255.255 scope global eth0\r\n",
      "       valid_lft forever preferred_lft forever\r\n",
      "bash-5.0# "
     ]
    }
   ],
   "source": [
    "ip addr"
   ]
  },
  {
   "cell_type": "code",
   "execution_count": null,
   "metadata": {},
   "outputs": [],
   "source": []
  }
 ],
 "metadata": {
  "kernelspec": {
   "display_name": "Bash",
   "language": "shell",
   "name": "bash"
  },
  "language_info": {
   "file_extension": ".sh",
   "mimetype": "text/x-shellscript",
   "name": "Shell script"
  }
 },
 "nbformat": 4,
 "nbformat_minor": 2
}
