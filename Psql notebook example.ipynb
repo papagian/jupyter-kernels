{
 "cells": [
  {
   "cell_type": "code",
   "execution_count": 1,
   "metadata": {},
   "outputs": [
    {
     "name": "stdout",
     "output_type": "stream",
     "text": [
      "postgres: 58401fc6adecc6feaaeafcda6ab72b3c0ebc57e3a27555941ee908fd109d2231# CREATE DATABASE just_testing;\r\n",
      "CREATE DATABASE\r\n",
      "postgres=# "
     ]
    }
   ],
   "source": [
    "CREATE DATABASE just_testing;"
   ]
  },
  {
   "cell_type": "code",
   "execution_count": 2,
   "metadata": {},
   "outputs": [
    {
     "name": "stdout",
     "output_type": "stream",
     "text": [
      "postgres: 58401fc6adecc6feaaeafcda6ab72b3c0ebc57e3a27555941ee908fd109d2231# \\l\r\n",
      "                                  List of databases\r\n",
      "     Name     |  Owner   | Encoding |  Collate   |   Ctype    |   Access privile\r\n",
      "ges   \r\n",
      "--------------+----------+----------+------------+------------+-----------------\r\n",
      "------\r\n",
      " just_testing | postgres | UTF8     | en_US.utf8 | en_US.utf8 | \r\n",
      " postgres     | postgres | UTF8     | en_US.utf8 | en_US.utf8 | \r\n",
      " template0    | postgres | UTF8     | en_US.utf8 | en_US.utf8 | =c/postgres     \r\n",
      "     +\r\n",
      "              |          |          |            |            | postgres=CTc/pos\r\n",
      "tgres\r\n",
      " template1    | postgres | UTF8     | en_US.utf8 | en_US.utf8 | =c/postgres     \r\n",
      "     +\r\n",
      "              |          |          |            |            | postgres=CTc/pos\r\n",
      "tgres\r\n",
      "(4 rows)\r\n",
      "\r\n",
      "postgres=# "
     ]
    }
   ],
   "source": [
    "\\l"
   ]
  },
  {
   "cell_type": "code",
   "execution_count": 3,
   "metadata": {},
   "outputs": [
    {
     "name": "stdout",
     "output_type": "stream",
     "text": [
      "postgres: 58401fc6adecc6feaaeafcda6ab72b3c0ebc57e3a27555941ee908fd109d2231# \\c just_testing\r\n",
      "You are now connected to database \"just_testing\" as user \"postgres\".\r\n",
      "just_testing=# "
     ]
    }
   ],
   "source": [
    "\\c just_testing"
   ]
  },
  {
   "cell_type": "code",
   "execution_count": 4,
   "metadata": {},
   "outputs": [
    {
     "name": "stdout",
     "output_type": "stream",
     "text": [
      "postgres: 58401fc6adecc6feaaeafcda6ab72b3c0ebc57e3a27555941ee908fd109d2231# CREATE TABLE films (\r\n",
      "just_testing(#     code        char(5) CONSTRAINT firstkey PRIMARY KEY,\r\n",
      "just_testing(#     title       varchar(40) NOT NULL,\r\n",
      "just_testing(#     did         integer NOT NULL,\r\n",
      "just_testing(#     date_prod   date,\r\n",
      "just_testing(#     kind        varchar(10),\r\n",
      "just_testing(#     len         interval hour to minute\r\n",
      "just_testing(# );\r\n",
      "CREATE TABLE\r\n",
      "just_testing=# "
     ]
    }
   ],
   "source": [
    "CREATE TABLE films (\n",
    "    code        char(5) CONSTRAINT firstkey PRIMARY KEY,\n",
    "    title       varchar(40) NOT NULL,\n",
    "    did         integer NOT NULL,\n",
    "    date_prod   date,\n",
    "    kind        varchar(10),\n",
    "    len         interval hour to minute\n",
    ");"
   ]
  },
  {
   "cell_type": "code",
   "execution_count": 5,
   "metadata": {},
   "outputs": [
    {
     "name": "stdout",
     "output_type": "stream",
     "text": [
      "postgres: 58401fc6adecc6feaaeafcda6ab72b3c0ebc57e3a27555941ee908fd109d2231# \\d\r\n",
      "         List of relations\r\n",
      " Schema | Name  | Type  |  Owner   \r\n",
      "--------+-------+-------+----------\r\n",
      " public | films | table | postgres\r\n",
      "(1 row)\r\n",
      "\r\n",
      "just_testing=# "
     ]
    }
   ],
   "source": [
    "\\d"
   ]
  }
 ],
 "metadata": {
  "kernelspec": {
   "display_name": "psql",
   "language": "psql",
   "name": "psql"
  },
  "language_info": {
   "file_extension": ".sql",
   "mimetype": "application/sql",
   "name": "PostgrSQL script"
  }
 },
 "nbformat": 4,
 "nbformat_minor": 2
}
